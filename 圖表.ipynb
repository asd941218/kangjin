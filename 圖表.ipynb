{
 "cells": [
  {
   "cell_type": "code",
   "execution_count": null,
   "metadata": {},
   "outputs": [],
   "source": [
    "#隨機畫出50個點\n",
    "import numpy as np\n",
    "import matplotlib.pyplot as pt\n",
    "N=50\n",
    "x=np.random.rand(N)\n",
    "y=np.random.rand(N)\n",
    "pt.scatter(x,y)\n",
    "pt.show"
   ]
  },
  {
   "cell_type": "code",
   "execution_count": null,
   "metadata": {},
   "outputs": [],
   "source": [
    "#隨機畫出一條線\n",
    "import numpy as np\n",
    "import matplotlib.pyplot as pt\n",
    "x=np.arange(0,360)\n",
    "y=np.sin(x*np.pi/180.0)\n",
    "pt.xlim(0,360)\n",
    "pt.ylim(-1.2,1.2)\n",
    "pt.title(\"sin function\")\n",
    "pt.scatter(x,y)\n",
    "pt.show"
   ]
  },
  {
   "cell_type": "code",
   "execution_count": null,
   "metadata": {},
   "outputs": [],
   "source": [
    "#隨機畫出一條線\n",
    "import numpy as np\n",
    "import matplotlib.pyplot as pt\n",
    "x=np.arange(0,360)\n",
    "y=np.sin(x*np.pi/180.0)\n",
    "z=np.cos(x*np.pi/180.0)\n",
    "pt.xlim(0,360)\n",
    "pt.ylim(-1.2,1.2)\n",
    "pt.title(\"sin function\")\n",
    "pt.scatter(x,y,color=\"blue\")\n",
    "pt.scatter(x,z,color=\"purple\")\n",
    "pt.show"
   ]
  },
  {
   "cell_type": "code",
   "execution_count": null,
   "metadata": {},
   "outputs": [],
   "source": [
    "#隨機畫出一條線\n",
    "import numpy as np\n",
    "import matplotlib.pyplot as pt\n",
    "x=np.arange(0,360)\n",
    "y=np.sin(x*np.pi/180.0)\n",
    "z=np.cos(x*np.pi/180.0)\n",
    "pt.xlim(0,360)\n",
    "pt.ylim(-1.2,1.2)\n",
    "pt.title(\"sin function\")\n",
    "pt.scatter(x,y,color=\"blue\")\n",
    "pt.scatter(x,z,color=\"purple\")\n",
    "pt.xlabel(\"degree\")\n",
    "pt.ylabel(\"value\")\n",
    "pt.show"
   ]
  },
  {
   "cell_type": "code",
   "execution_count": null,
   "metadata": {},
   "outputs": [],
   "source": [
    "import numpy as np\n",
    "import matplotlib.pyplot as pt\n",
    "x=[1,2,3,4]\n",
    "pt.plot(x,\"r--\")\n",
    "pt.show\n"
   ]
  },
  {
   "cell_type": "code",
   "execution_count": null,
   "metadata": {},
   "outputs": [],
   "source": [
    "import numpy as np\n",
    "import matplotlib.pyplot as pt\n",
    "x=[1,2,3,4]\n",
    "y=[3,7,2,6]\n",
    "pt.bar(x,y,label=\"bar chart\")\n",
    "pt.legend()\n",
    "pt.show()"
   ]
  },
  {
   "cell_type": "code",
   "execution_count": null,
   "metadata": {},
   "outputs": [],
   "source": [
    "import matplotlib.pyplot as plt\n",
    "from mpl_toolkits.mplot3d.axes3d import Axes3D\n",
    "import numpy as np\n",
    "from matplotlib import cm\n",
    "\n",
    "\n",
    "def f(x, y):\n",
    "    return np.cos(x**2 + y**2) / (1 + x**2 + y**2)\n",
    "\n",
    "xgrid = np.linspace(-3, 3, 50)\n",
    "ygrid = xgrid\n",
    "x, y = np.meshgrid(xgrid, ygrid)\n",
    "\n",
    "fig = plt.figure(figsize=(8, 6))\n",
    "ax = fig.add_subplot(111, projection='3d')\n",
    "ax.plot_surface(x,\n",
    "                y,\n",
    "                f(x, y),\n",
    "                rstride=2, cstride=2,\n",
    "                cmap=cm.jet,\n",
    "                alpha=0.7,\n",
    "                linewidth=0.25)\n",
    "ax.set_zlim(-0.5, 1.0)\n",
    "plt.show()"
   ]
  },
  {
   "cell_type": "code",
   "execution_count": null,
   "metadata": {},
   "outputs": [],
   "source": [
    "from sklearn import datasets\n",
    "iris=datasets.load_iris()\n",
    "iris"
   ]
  },
  {
   "cell_type": "code",
   "execution_count": null,
   "metadata": {},
   "outputs": [],
   "source": [
    "print(iris[\"DESCR\"])"
   ]
  },
  {
   "cell_type": "code",
   "execution_count": null,
   "metadata": {},
   "outputs": [],
   "source": [
    "print(iris[\"feature_names\"])"
   ]
  },
  {
   "cell_type": "code",
   "execution_count": null,
   "metadata": {},
   "outputs": [],
   "source": [
    "print(iris[\"data\"])"
   ]
  },
  {
   "cell_type": "code",
   "execution_count": null,
   "metadata": {},
   "outputs": [],
   "source": [
    "print(iris[\"target\"])"
   ]
  },
  {
   "cell_type": "code",
   "execution_count": null,
   "metadata": {},
   "outputs": [],
   "source": [
    "from sklearn import datasets, cluster, metrics\n",
    "iris=datasets.load_iris()\n",
    "iris_X=iris.data\n",
    "\n",
    "result=cluster.KMeans(n_clusters=3).fit(iris_X)\n",
    "result.labels_\n",
    "\n",
    "#算silhouette score, 越接近1分群結果越好\n",
    "silhouette_avg=metrics.silhouette_score(iris_X, result.labels_)\n",
    "print(silhouette_avg)"
   ]
  },
  {
   "cell_type": "code",
   "execution_count": null,
   "metadata": {},
   "outputs": [],
   "source": [
    "from sklearn import datasets, cluster, metrics\n",
    "import matplotlib.pyplot as pt\n",
    "iris=datasets.load_iris()\n",
    "iris_X=iris.data\n",
    "\n",
    "ks=range(2,11)\n",
    "silhouette_avgs=[]\n",
    "\n",
    "for n in ks :\n",
    "    \n",
    "    result=cluster.KMeans(n_clusters=n).fit(iris_X)\n",
    "    silhouette_avg=metrics.silhouette_score(iris_X, result.labels_)\n",
    "    silhouette_avgs.append(silhouette_avg)\n",
    "pt.bar(ks,silhouette_avgs)\n",
    "pt.show()\n"
   ]
  }
 ],
 "metadata": {
  "kernelspec": {
   "display_name": "Python 3",
   "language": "python",
   "name": "python3"
  },
  "language_info": {
   "codemirror_mode": {
    "name": "ipython",
    "version": 3
   },
   "file_extension": ".py",
   "mimetype": "text/x-python",
   "name": "python",
   "nbconvert_exporter": "python",
   "pygments_lexer": "ipython3",
   "version": "3.6.4"
  }
 },
 "nbformat": 4,
 "nbformat_minor": 2
}
